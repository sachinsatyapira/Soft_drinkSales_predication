{
 "cells": [
  {
   "cell_type": "code",
   "execution_count": 31,
   "metadata": {},
   "outputs": [],
   "source": [
    "import numpy as np\n",
    "import pandas as pd\n",
    "import matplotlib.pyplot as plt\n",
    "import seaborn as sns"
   ]
  },
  {
   "cell_type": "code",
   "execution_count": 32,
   "metadata": {},
   "outputs": [],
   "source": [
    "train_df = pd.read_csv('./data/train.csv')\n",
    "test_df = pd.read_csv('./data/test.csv')"
   ]
  },
  {
   "cell_type": "code",
   "execution_count": 33,
   "metadata": {},
   "outputs": [],
   "source": [
    "df = train_df + test_df"
   ]
  },
  {
   "cell_type": "code",
   "execution_count": 34,
   "metadata": {},
   "outputs": [
    {
     "data": {
      "text/html": [
       "<div>\n",
       "<style scoped>\n",
       "    .dataframe tbody tr th:only-of-type {\n",
       "        vertical-align: middle;\n",
       "    }\n",
       "\n",
       "    .dataframe tbody tr th {\n",
       "        vertical-align: top;\n",
       "    }\n",
       "\n",
       "    .dataframe thead th {\n",
       "        text-align: right;\n",
       "    }\n",
       "</style>\n",
       "<table border=\"1\" class=\"dataframe\">\n",
       "  <thead>\n",
       "    <tr style=\"text-align: right;\">\n",
       "      <th></th>\n",
       "      <th>id</th>\n",
       "      <th>lat</th>\n",
       "      <th>long</th>\n",
       "      <th>pop</th>\n",
       "      <th>price</th>\n",
       "      <th>quantity</th>\n",
       "    </tr>\n",
       "  </thead>\n",
       "  <tbody>\n",
       "    <tr>\n",
       "      <th>id</th>\n",
       "      <td>1.000000</td>\n",
       "      <td>0.032660</td>\n",
       "      <td>-0.015088</td>\n",
       "      <td>-0.009159</td>\n",
       "      <td>-0.005321</td>\n",
       "      <td>0.100896</td>\n",
       "    </tr>\n",
       "    <tr>\n",
       "      <th>lat</th>\n",
       "      <td>0.032660</td>\n",
       "      <td>1.000000</td>\n",
       "      <td>-0.724670</td>\n",
       "      <td>0.069464</td>\n",
       "      <td>0.000617</td>\n",
       "      <td>-0.014388</td>\n",
       "    </tr>\n",
       "    <tr>\n",
       "      <th>long</th>\n",
       "      <td>-0.015088</td>\n",
       "      <td>-0.724670</td>\n",
       "      <td>1.000000</td>\n",
       "      <td>0.232059</td>\n",
       "      <td>-0.001085</td>\n",
       "      <td>-0.149723</td>\n",
       "    </tr>\n",
       "    <tr>\n",
       "      <th>pop</th>\n",
       "      <td>-0.009159</td>\n",
       "      <td>0.069464</td>\n",
       "      <td>0.232059</td>\n",
       "      <td>1.000000</td>\n",
       "      <td>0.014889</td>\n",
       "      <td>-0.249057</td>\n",
       "    </tr>\n",
       "    <tr>\n",
       "      <th>price</th>\n",
       "      <td>-0.005321</td>\n",
       "      <td>0.000617</td>\n",
       "      <td>-0.001085</td>\n",
       "      <td>0.014889</td>\n",
       "      <td>1.000000</td>\n",
       "      <td>-0.503457</td>\n",
       "    </tr>\n",
       "    <tr>\n",
       "      <th>quantity</th>\n",
       "      <td>0.100896</td>\n",
       "      <td>-0.014388</td>\n",
       "      <td>-0.149723</td>\n",
       "      <td>-0.249057</td>\n",
       "      <td>-0.503457</td>\n",
       "      <td>1.000000</td>\n",
       "    </tr>\n",
       "  </tbody>\n",
       "</table>\n",
       "</div>"
      ],
      "text/plain": [
       "                id       lat      long       pop     price  quantity\n",
       "id        1.000000  0.032660 -0.015088 -0.009159 -0.005321  0.100896\n",
       "lat       0.032660  1.000000 -0.724670  0.069464  0.000617 -0.014388\n",
       "long     -0.015088 -0.724670  1.000000  0.232059 -0.001085 -0.149723\n",
       "pop      -0.009159  0.069464  0.232059  1.000000  0.014889 -0.249057\n",
       "price    -0.005321  0.000617 -0.001085  0.014889  1.000000 -0.503457\n",
       "quantity  0.100896 -0.014388 -0.149723 -0.249057 -0.503457  1.000000"
      ]
     },
     "execution_count": 34,
     "metadata": {},
     "output_type": "execute_result"
    }
   ],
   "source": [
    "df.corr(numeric_only=True)"
   ]
  },
  {
   "cell_type": "code",
   "execution_count": 36,
   "metadata": {},
   "outputs": [],
   "source": [
    "correlation_matrix = df.corr(numeric_only=True)\n",
    "# Create a mask to hide the upper triangle\n",
    "mask = np.triu(np.ones_like(correlation_matrix, dtype=bool))"
   ]
  },
  {
   "cell_type": "code",
   "execution_count": 37,
   "metadata": {},
   "outputs": [
    {
     "name": "stderr",
     "output_type": "stream",
     "text": [
      "c:\\Users\\sachi\\anaconda3\\Lib\\site-packages\\seaborn\\matrix.py:260: FutureWarning: Format strings passed to MaskedConstant are ignored, but in future may error or produce different behavior\n",
      "  annotation = (\"{:\" + self.fmt + \"}\").format(val)\n"
     ]
    },
    {
     "data": {
      "image/png": "[encoded data removed]",
      "text/plain": [
       "<Figure size 800x600 with 2 Axes>"
      ]
     },
     "metadata": {},
     "output_type": "display_data"
    }
   ],
   "source": [
    "# Plot heatmap\n",
    "plt.figure(figsize=(8, 6))\n",
    "sns.heatmap(correlation_matrix, annot=True, cmap=sns.diverging_palette(220, 20, as_cmap=True),\n",
    "            vmin=-1, vmax=1, center=0, square=True, linewidths=.5, mask=mask)\n",
    "plt.title('Correlation Heatmap')\n",
    "plt.show()"
   ]
  }
 ],
 "metadata": {
  "kernelspec": {
   "display_name": "Python 3",
   "language": "python",
   "name": "python3"
  },
  "language_info": {
   "codemirror_mode": {
    "name": "ipython",
    "version": 3
   },
   "file_extension": ".py",
   "mimetype": "text/x-python",
   "name": "python",
   "nbconvert_exporter": "python",
   "pygments_lexer": "ipython3",
   "version": "undefined.undefined.undefined"
  }
 },
 "nbformat": 4,
 "nbformat_minor": 2
}
